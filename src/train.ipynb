{
 "cells": [
  {
   "cell_type": "markdown",
   "metadata": {},
   "source": [
    "# Noise as target\n",
    "A keras implementation of the [Unsupervised learning by predicting noise](https://arxiv.org/abs/1704.05310) paper  \n",
    "  \n",
    "Here's an analysis of the paper I rather enjoyed. [link](http://www.inference.vc/unsupervised-learning-by-predicting-noise-an-information-maximization-view-2/)  \n",
    "  \n",
    "This is an extraction and reformatting of the implementation my team and I made as part of the \"[Mozgalo](https://www.estudent.hr/category/natjecanja/mozgalo/)\" competition.  \n",
    "  \n",
    "I have the [celebA](http://mmlab.ie.cuhk.edu.hk/projects/CelebA.html) dataset on hand, and it's a big and publicly available dataset unlike mozgalo so this demo uses it.  "
   ]
  },
  {
   "cell_type": "code",
   "execution_count": 11,
   "metadata": {},
   "outputs": [],
   "source": [
    "%matplotlib inline\n",
    "\n",
    "import numpy as np\n",
    "from keras.preprocessing.image import ImageDataGenerator\n",
    "from keras.models import Model, load_model\n",
    "from keras.layers import Input\n",
    "from keras.layers.convolutional import Conv2D\n",
    "from keras.layers.normalization import BatchNormalization\n",
    "from keras.layers.advanced_activations import LeakyReLU\n",
    "from keras.layers.pooling import MaxPooling2D, GlobalAveragePooling2D\n",
    "\n",
    "from scipy.optimize import linear_sum_assignment\n",
    "\n",
    "import matplotlib.pyplot as plt"
   ]
  },
  {
   "cell_type": "markdown",
   "metadata": {},
   "source": [
    "### config"
   ]
  },
  {
   "cell_type": "code",
   "execution_count": 13,
   "metadata": {
    "collapsed": true
   },
   "outputs": [],
   "source": [
    "image_shape = (224,224)\n",
    "batch_size = 128"
   ]
  },
  {
   "cell_type": "markdown",
   "metadata": {},
   "source": [
    "## Loading the data!"
   ]
  },
  {
   "cell_type": "code",
   "execution_count": 15,
   "metadata": {},
   "outputs": [
    {
     "name": "stdout",
     "output_type": "stream",
     "text": [
      "Found 202599 images belonging to 1 classes.\n"
     ]
    }
   ],
   "source": [
    "datagen = ImageDataGenerator(\n",
    "            rotation_range=40,\n",
    "            width_shift_range=0.2,\n",
    "            height_shift_range=0.2,\n",
    "            rescale=1./255,\n",
    "            shear_range=0.2,\n",
    "            zoom_range=0.2,\n",
    "            horizontal_flip=True,\n",
    "            fill_mode='nearest')\n",
    "\n",
    "gen = datagen.flow_from_directory(\n",
    "    '../data/',\n",
    "    target_size=image_shape,\n",
    "    batch_size=batch_size,\n",
    "    class_mode=None,\n",
    "    color_mode='grayscale'\n",
    "    )"
   ]
  },
  {
   "cell_type": "code",
   "execution_count": 19,
   "metadata": {},
   "outputs": [],
   "source": [
    "filenames = gen.filenames\n",
    "n_images = len(filenames)"
   ]
  },
  {
   "cell_type": "markdown",
   "metadata": {},
   "source": [
    "## Building the model\n",
    "This is a [darknet](https://pjreddie.com/darknet/imagenet/) model.  \n",
    "You can use whatever you wish. One of the things I find so nice about this method is that the models are interchangeable wit"
   ]
  },
  {
   "cell_type": "code",
   "execution_count": 9,
   "metadata": {},
   "outputs": [],
   "source": [
    "def convolutional_block(inp, filters):\n",
    "    x = Conv2D(filters=filters, kernel_size=3, strides=(1,1), padding='same', use_bias=False)(inp)\n",
    "    x = BatchNormalization()(x)\n",
    "    x = LeakyReLU()(x)\n",
    "    x = MaxPooling2D(pool_size=(2,2), strides=2)(x)\n",
    "    return x\n",
    "\n",
    "c = 1  # we train on b&w images, as the paper suggests, to make the training objective harder \n",
    "\n",
    "input_img = Input(shape=(*image_shape, c))\n",
    "\n",
    "x = convolutional_block(input_img, 16)\n",
    "\n",
    "x = convolutional_block(x, 32)\n",
    "\n",
    "x = convolutional_block(x, 64)\n",
    "\n",
    "x = convolutional_block(x, 128)\n",
    "\n",
    "x = convolutional_block(x, 256)\n",
    "\n",
    "x = convolutional_block(x, 512)\n",
    "\n",
    "x = convolutional_block(x, 1024)\n",
    "\n",
    "x = Conv2D(filters=1000, kernel_size=1, strides=(1,1), padding='same', use_bias=False)(x)\n",
    "x = LeakyReLU()(x)\n",
    "x = GlobalAveragePooling2D()(x)\n",
    "\n",
    "model = Model(inputs=input_img, outputs=x)\n",
    "model.compile(loss='mean_squared_error',\n",
    "              optimizer='adam')\n",
    "\n",
    "# print(model.summary())"
   ]
  },
  {
   "cell_type": "markdown",
   "metadata": {},
   "source": [
    "### or if you prefer, load a trained model"
   ]
  },
  {
   "cell_type": "code",
   "execution_count": null,
   "metadata": {
    "collapsed": true
   },
   "outputs": [],
   "source": [
    "model = load_model('../models/something')"
   ]
  },
  {
   "cell_type": "markdown",
   "metadata": {},
   "source": [
    "## Helper functions for training"
   ]
  },
  {
   "cell_type": "code",
   "execution_count": null,
   "metadata": {
    "collapsed": true
   },
   "outputs": [],
   "source": [
    "def sample_spherical(npoints, ndim=n_features):\n",
    "    '''\n",
    "    Generates \"npoints\" number of vectors of size \"ndim\"\n",
    "    such that each vectors is a point on an \"ndim\" dimensional sphere\n",
    "    that is, so that each vector is of distance 1 from the center\n",
    "    \n",
    "    npoints -- number of feature vectors to generate\n",
    "    ndim -- how many features per vector\n",
    "    \n",
    "    returns -- np array of shape (npoints, ndim), dtype=float64\n",
    "    '''\n",
    "    vec = np.random.randn(npoints, ndim)\n",
    "    vec = np.divide(vec, np.expand_dims(np.linalg.norm(vec, axis=1), axis=1))\n",
    "    return vec"
   ]
  },
  {
   "cell_type": "code",
   "execution_count": null,
   "metadata": {
    "collapsed": true
   },
   "outputs": [],
   "source": []
  }
 ],
 "metadata": {
  "kernelspec": {
   "display_name": "Python 3",
   "language": "python",
   "name": "python3"
  },
  "language_info": {
   "codemirror_mode": {
    "name": "ipython",
    "version": 3
   },
   "file_extension": ".py",
   "mimetype": "text/x-python",
   "name": "python",
   "nbconvert_exporter": "python",
   "pygments_lexer": "ipython3",
   "version": "3.5.2"
  }
 },
 "nbformat": 4,
 "nbformat_minor": 2
}
